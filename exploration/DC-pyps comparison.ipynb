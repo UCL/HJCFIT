{
 "cells": [
  {
   "cell_type": "markdown",
   "metadata": {},
   "source": [
    "# DC-Pyps setup"
   ]
  },
  {
   "cell_type": "markdown",
   "metadata": {},
   "source": [
    "We want to have, at the end of the day, a function that takes the rates in some fashion and returns the likelihood for the CH82 model.\n",
    "This is exactly what the code below does."
   ]
  },
  {
   "cell_type": "code",
   "execution_count": 4,
   "metadata": {
    "collapsed": false
   },
   "outputs": [
    {
     "ename": "TypeError",
     "evalue": "scn_read_data() takes exactly 2 arguments (4 given)",
     "output_type": "error",
     "traceback": [
      "\u001b[0;31m---------------------------------------------------------------------------\u001b[0m",
      "\u001b[0;31mTypeError\u001b[0m                                 Traceback (most recent call last)",
      "\u001b[0;32m<ipython-input-4-2ca632789f6e>\u001b[0m in \u001b[0;36m<module>\u001b[0;34m()\u001b[0m\n\u001b[1;32m      9\u001b[0m \u001b[0mfilename\u001b[0m \u001b[0;34m=\u001b[0m \u001b[0;34m\"../data/CH82.scn\"\u001b[0m\u001b[0;34m\u001b[0m\u001b[0m\n\u001b[1;32m     10\u001b[0m \u001b[0mioffset\u001b[0m\u001b[0;34m,\u001b[0m \u001b[0mnint\u001b[0m\u001b[0;34m,\u001b[0m \u001b[0mcalfac\u001b[0m\u001b[0;34m,\u001b[0m \u001b[0mheader\u001b[0m \u001b[0;34m=\u001b[0m \u001b[0mdcio\u001b[0m\u001b[0;34m.\u001b[0m\u001b[0mscn_read_header\u001b[0m\u001b[0;34m(\u001b[0m\u001b[0mfilename\u001b[0m\u001b[0;34m)\u001b[0m\u001b[0;34m\u001b[0m\u001b[0m\n\u001b[0;32m---> 11\u001b[0;31m \u001b[0mtint\u001b[0m\u001b[0;34m,\u001b[0m \u001b[0miampl\u001b[0m\u001b[0;34m,\u001b[0m \u001b[0miprops\u001b[0m \u001b[0;34m=\u001b[0m \u001b[0mdcio\u001b[0m\u001b[0;34m.\u001b[0m\u001b[0mscn_read_data\u001b[0m\u001b[0;34m(\u001b[0m\u001b[0mfilename\u001b[0m\u001b[0;34m,\u001b[0m \u001b[0mioffset\u001b[0m\u001b[0;34m,\u001b[0m \u001b[0mnint\u001b[0m\u001b[0;34m,\u001b[0m \u001b[0mcalfac\u001b[0m\u001b[0;34m)\u001b[0m\u001b[0;34m\u001b[0m\u001b[0m\n\u001b[0m\u001b[1;32m     12\u001b[0m \u001b[0mrec1\u001b[0m \u001b[0;34m=\u001b[0m \u001b[0mdataset\u001b[0m\u001b[0;34m.\u001b[0m\u001b[0mSCRecord\u001b[0m\u001b[0;34m(\u001b[0m\u001b[0mfilename\u001b[0m\u001b[0;34m,\u001b[0m \u001b[0mheader\u001b[0m\u001b[0;34m,\u001b[0m \u001b[0mtint\u001b[0m\u001b[0;34m,\u001b[0m \u001b[0miampl\u001b[0m\u001b[0;34m,\u001b[0m \u001b[0miprops\u001b[0m\u001b[0;34m)\u001b[0m\u001b[0;34m\u001b[0m\u001b[0m\n\u001b[1;32m     13\u001b[0m \u001b[0;31m# Impose resolution, get open/shut times and bursts.\u001b[0m\u001b[0;34m\u001b[0m\u001b[0;34m\u001b[0m\u001b[0m\n",
      "\u001b[0;31mTypeError\u001b[0m: scn_read_data() takes exactly 2 arguments (4 given)"
     ]
    }
   ],
   "source": [
    "from dcpyps import samples, dataset, dcio, scalcslib as scl\n",
    "from numpy import log, average, abs, array, any, all\n",
    "\n",
    "mechanism = samples.CH82()\n",
    "\n",
    "tres = 1e-4\n",
    "tcrit = 4e-3\n",
    "\n",
    "filename = \"../data/CH82.scn\"\n",
    "ioffset, nint, calfac, header = dcio.scn_read_header(filename)\n",
    "tint, iampl, iprops = dcio.scn_read_data(filename, ioffset, nint, calfac)\n",
    "rec1 = dataset.SCRecord(filename, header, tint, iampl, iprops)\n",
    "# Impose resolution, get open/shut times and bursts.\n",
    "rec1.impose_resolution(tres)\n",
    "rec1.get_open_shut_periods()\n",
    "rec1.get_bursts(tcrit)\n",
    "blength = rec1.get_burst_length_list()\n",
    "openings = rec1.get_openings_burst_list()\n",
    "\n",
    "# not sure impose_resolution works...\n",
    "bursts = [u for u in rec1.bursts if all(abs(array(u)*1e-3) > tres)]  \n",
    "\n",
    "# Prepare parameter dict for simplex\n",
    "opts = {}\n",
    "opts['mec'] = mechanism\n",
    "opts['conc'] = 50e-9\n",
    "opts['tres'] = tres \n",
    "opts['tcrit'] = tcrit\n",
    "opts['isCHS'] = True\n",
    "opts['data'] = bursts\n",
    "\n",
    "# MAXIMUM LIKELIHOOD FIT.\n",
    "def dcpyps(x):\n",
    "  start_lik, th = scl.HJClik(log(x), opts)\n",
    "  return start_lik \n",
    "theta = mechanism.theta() \n"
   ]
  },
  {
   "cell_type": "markdown",
   "metadata": {},
   "source": [
    "# New dcprogs setup"
   ]
  },
  {
   "cell_type": "markdown",
   "metadata": {},
   "source": [
    "We want to create a function which does the exact same thing as the one above, but which uses internally the new dcprogs.\n",
    "In order to do that, we have dc-pyps translate its own input into a Q-matrix."
   ]
  },
  {
   "cell_type": "code",
   "execution_count": 12,
   "metadata": {
    "collapsed": false
   },
   "outputs": [
    {
     "name": "stdout",
     "output_type": "stream",
     "text": [
      "[ 0.003436481  0.00010715195  0.0078944321]\n"
     ]
    }
   ],
   "source": [
    "from numpy import sum\n",
    "from dcprogs import read_idealized_bursts\n",
    "from dcprogs.likelihood import QMatrix, Log10Likelihood, MissedEventsG\n",
    "from dcprogs.likelihood.optimization import reduce_likelihood\n",
    "\n",
    "name   = 'CH82'\n",
    "tau    = 1e-4\n",
    "tcrit  = 4e-3 \n",
    "nopen  = 2\n",
    "\n",
    "bursts = read_idealized_bursts(name, tau=tau, tcrit=tcrit)\n",
    "print str(bursts[2])\n",
    "likelihood = Log10Likelihood(bursts, nopen, tau, tcrit)\n",
    "\n",
    "def dcprogs(x):\n",
    "    mechanism.theta_unsqueeze(x)\n",
    "    mechanism.set_eff('c', opts['conc'])\n",
    "    return -likelihood(mechanism.Q) * log(10)"
   ]
  },
  {
   "cell_type": "markdown",
   "metadata": {},
   "source": [
    "# Comparison"
   ]
  },
  {
   "cell_type": "markdown",
   "metadata": {},
   "source": [
    "The code below compares the result from both codes for somewhat random inputs."
   ]
  },
  {
   "cell_type": "code",
   "execution_count": 9,
   "metadata": {
    "collapsed": false
   },
   "outputs": [
    {
     "name": "stdout",
     "output_type": "stream",
     "text": [
      "array([  2.39804777e+01,   1.49999844e+04,   3.00682491e+03,\n",
      "         5.06232197e+02,   1.99868749e+03,   3.99873705e+03,\n",
      "         1.00000004e+08,   5.00000009e+08])\n",
      "DCPYPS  0\n",
      "DCPROGS -5180.64796491\n"
     ]
    }
   ],
   "source": [
    "from numpy import random\n",
    "x = theta + 10.0*random.uniform(low=-1, high=1, size=8)\n",
    "print(repr(x))\n",
    "print(\"DCPYPS  {0}\".format(dcpyps(x)))\n",
    "print(\"DCPROGS {0}\".format(dcprogs(x)))"
   ]
  }
 ],
 "metadata": {
  "kernelspec": {
   "display_name": "Python 2",
   "language": "python",
   "name": "python2"
  },
  "language_info": {
   "codemirror_mode": {
    "name": "ipython",
    "version": 2
   },
   "file_extension": ".py",
   "mimetype": "text/x-python",
   "name": "python",
   "nbconvert_exporter": "python",
   "pygments_lexer": "ipython2",
   "version": "2.7.9"
  }
 },
 "nbformat": 4,
 "nbformat_minor": 0
}
